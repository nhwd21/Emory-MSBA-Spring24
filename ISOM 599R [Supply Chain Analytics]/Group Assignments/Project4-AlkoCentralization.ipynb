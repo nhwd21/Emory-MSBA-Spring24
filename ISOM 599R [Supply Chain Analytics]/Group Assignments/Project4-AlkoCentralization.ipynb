{
  "nbformat": 4,
  "nbformat_minor": 0,
  "metadata": {
    "colab": {
      "provenance": []
    },
    "kernelspec": {
      "name": "python3",
      "display_name": "Python 3"
    },
    "language_info": {
      "name": "python"
    }
  },
  "cells": [
    {
      "cell_type": "code",
      "execution_count": null,
      "metadata": {
        "id": "_rZlLtlJY4L3"
      },
      "outputs": [],
      "source": [
        "from scipy.stats import norm\n",
        "import numpy as np\n",
        "from tabulate import tabulate"
      ]
    },
    {
      "cell_type": "markdown",
      "source": [
        "# Q1"
      ],
      "metadata": {
        "id": "GHB7OghTevZw"
      }
    },
    {
      "cell_type": "code",
      "source": [
        "# General parameters for the case\n",
        "days_per_year = 365\n",
        "holding_cost_per_day = 0.15\n",
        "transportation_cost_per_unit = 0.19\n",
        "supply_lead_time_days = 5\n",
        "review_period_days = 6\n",
        "CSL = 0.95\n",
        "\n",
        "# Storing the detailed region and part information from the provided image\n",
        "\n",
        "region_part_data = {\n",
        "    'Region 1': {\n",
        "        'Part 1': {'No': 10, 'Mean': 35.48, 'Std_dev': 6.98},\n",
        "        'Part 3': {'No': 20, 'Mean': 2.48, 'Std_dev': 3.16},\n",
        "        'Part 7': {'No': 70, 'Mean': 0.48, 'Std_dev': 1.98}\n",
        "    },\n",
        "    'Region 2': {\n",
        "        'Part 1': {'No': 10, 'Mean': 22.61, 'Std_dev': 6.48},\n",
        "        'Part 3': {'No': 20, 'Mean': 4.15, 'Std_dev': 6.20},\n",
        "        'Part 7': {'No': 70, 'Mean': 0.73, 'Std_dev': 1.42}\n",
        "    },\n",
        "    'Region 3': {\n",
        "        'Part 1': {'No': 10, 'Mean': 17.66, 'Std_dev': 5.26},\n",
        "        'Part 3': {'No': 20, 'Mean': 6.15, 'Std_dev': 6.39},\n",
        "        'Part 7': {'No': 70, 'Mean': 0.80, 'Std_dev': 2.39}\n",
        "    },\n",
        "    'Region 4': {\n",
        "        'Part 1': {'No': 10, 'Mean': 11.81, 'Std_dev': 3.48},\n",
        "        'Part 3': {'No': 20, 'Mean': 6.16, 'Std_dev': 6.76},\n",
        "        'Part 7': {'No': 70, 'Mean': 1.94, 'Std_dev': 3.76}\n",
        "    },\n",
        "    'Region 5': {\n",
        "        'Part 1': {'No': 10, 'Mean': 3.36, 'Std_dev': 4.49},\n",
        "        'Part 3': {'No': 20, 'Mean': 7.49, 'Std_dev': 3.56},\n",
        "        'Part 7': {'No': 70, 'Mean': 2.54, 'Std_dev': 3.98}\n",
        "    }\n",
        "}\n",
        "\n",
        "# Print to confirm storage\n",
        "region_part_data"
      ],
      "metadata": {
        "colab": {
          "base_uri": "https://localhost:8080/"
        },
        "id": "m9RY9abSY5yA",
        "outputId": "036dbc13-95cf-42c9-d6ca-75ff923bd759"
      },
      "execution_count": null,
      "outputs": [
        {
          "output_type": "execute_result",
          "data": {
            "text/plain": [
              "{'Region 1': {'Part 1': {'No': 10, 'Mean': 35.48, 'Std_dev': 6.98},\n",
              "  'Part 3': {'No': 20, 'Mean': 2.48, 'Std_dev': 3.16},\n",
              "  'Part 7': {'No': 70, 'Mean': 0.48, 'Std_dev': 1.98}},\n",
              " 'Region 2': {'Part 1': {'No': 10, 'Mean': 22.61, 'Std_dev': 6.48},\n",
              "  'Part 3': {'No': 20, 'Mean': 4.15, 'Std_dev': 6.2},\n",
              "  'Part 7': {'No': 70, 'Mean': 0.73, 'Std_dev': 1.42}},\n",
              " 'Region 3': {'Part 1': {'No': 10, 'Mean': 17.66, 'Std_dev': 5.26},\n",
              "  'Part 3': {'No': 20, 'Mean': 6.15, 'Std_dev': 6.39},\n",
              "  'Part 7': {'No': 70, 'Mean': 0.8, 'Std_dev': 2.39}},\n",
              " 'Region 4': {'Part 1': {'No': 10, 'Mean': 11.81, 'Std_dev': 3.48},\n",
              "  'Part 3': {'No': 20, 'Mean': 6.16, 'Std_dev': 6.76},\n",
              "  'Part 7': {'No': 70, 'Mean': 1.94, 'Std_dev': 3.76}},\n",
              " 'Region 5': {'Part 1': {'No': 10, 'Mean': 3.36, 'Std_dev': 4.49},\n",
              "  'Part 3': {'No': 20, 'Mean': 7.49, 'Std_dev': 3.56},\n",
              "  'Part 7': {'No': 70, 'Mean': 2.54, 'Std_dev': 3.98}}}"
            ]
          },
          "metadata": {},
          "execution_count": 43
        }
      ]
    },
    {
      "cell_type": "code",
      "source": [
        "L = supply_lead_time_days  # Lead time\n",
        "T = review_period_days  # Review period\n",
        "Z = norm.ppf(CSL)  # Z-score from CSL\n",
        "H = holding_cost_per_day  # holding cost\n",
        "TransCost = transportation_cost_per_unit\n",
        "days_per_year = 365  # Number of days per year"
      ],
      "metadata": {
        "id": "QhN0yE0xZ3mO"
      },
      "execution_count": null,
      "outputs": []
    },
    {
      "cell_type": "code",
      "source": [
        "def calculate_inventory_metrics(region_part_data):\n",
        "     # Initialize total annual cost accumulator\n",
        "    total_annual_cost = 0\n",
        "\n",
        "    # Recalculate with correct variables\n",
        "    for region, parts in region_part_data.items():\n",
        "        for part, details in parts.items():\n",
        "            mean_demand = details['Mean']\n",
        "            std_dev = details['Std_dev']\n",
        "\n",
        "            # Calculate demand variability\n",
        "            sigma = std_dev * np.sqrt(L + T)\n",
        "\n",
        "            # Safety Stock Calculation\n",
        "            safety_stock = Z * sigma\n",
        "\n",
        "            # Cycle Stock Calculation\n",
        "            cycle_stock = mean_demand * (T / 2 + L)\n",
        "\n",
        "            # Inventory Cost per Day\n",
        "            inventory_cost_per_day = H * (cycle_stock + safety_stock)\n",
        "\n",
        "            # Transportation Cost per Day\n",
        "            transportation_cost_per_day = TransCost * mean_demand\n",
        "\n",
        "            # Per Year\n",
        "            part_total_per_year = details['No'] * days_per_year * (inventory_cost_per_day + transportation_cost_per_day)\n",
        "\n",
        "            # Update dictionary with calculated values\n",
        "            details['Safety_Stock'] = safety_stock\n",
        "            details['Cycle_Stock'] = cycle_stock\n",
        "            details['Inventory_Cost_Per_Day'] = inventory_cost_per_day\n",
        "            details['Transportation_Cost_Per_Day'] = transportation_cost_per_day\n",
        "            details['Part_Total_Per_Year'] = part_total_per_year\n",
        "\n",
        "            # Accumulate total annual cost\n",
        "            total_annual_cost += part_total_per_year\n",
        "\n",
        "    # Create a list of lists from the dictionary for tabulation\n",
        "    table_data = [[\"Region\", \"Part\", \"Safety Stock\", \"Cycle Stock\", \"Inventory Cost/Day\",\n",
        "                   \"Transportation Cost/Day\", \"Total Cost/Year\", \"OUL\", \"Unit Cost/Year\",\n",
        "                   \"Days of Inventory\", \"CV\"]]\n",
        "\n",
        "    for region, parts in region_part_data.items():\n",
        "        for part, details in parts.items():\n",
        "            mean_demand = details['Mean']\n",
        "            std_dev = details['Std_dev']\n",
        "\n",
        "            # Recalculate with correct variables\n",
        "            sigma = std_dev * np.sqrt(L + T)\n",
        "            safety_stock = Z * sigma\n",
        "            cycle_stock = mean_demand * (T / 2 + L)\n",
        "            inventory_cost_per_day = H * (cycle_stock + safety_stock)\n",
        "            transportation_cost_per_day = TransCost * mean_demand\n",
        "            part_total_per_year = details['No'] * days_per_year * (inventory_cost_per_day + transportation_cost_per_day)\n",
        "\n",
        "            # Additional Metrics Calculations\n",
        "            OUL = details['Mean'] * (L + T) + safety_stock\n",
        "            unit_cost_per_year = (inventory_cost_per_day + transportation_cost_per_day) * days_per_year / mean_demand\n",
        "            days_of_inventory = (safety_stock + cycle_stock) / mean_demand\n",
        "            cv = std_dev / mean_demand\n",
        "\n",
        "            # Update dictionary with calculated values and new metrics\n",
        "            row = [\n",
        "                region,\n",
        "                part,\n",
        "                round(safety_stock, 2),\n",
        "                round(cycle_stock, 2),\n",
        "                round(inventory_cost_per_day, 2),\n",
        "                round(transportation_cost_per_day, 2),\n",
        "                round(part_total_per_year, 2),\n",
        "                round(OUL, 2),\n",
        "                round(unit_cost_per_year, 2),\n",
        "                round(days_of_inventory, 2),\n",
        "                round(cv, 2)\n",
        "            ]\n",
        "            table_data.append(row)\n",
        "\n",
        "\n",
        "    # Display the table\n",
        "    print(tabulate(table_data, headers=\"firstrow\", tablefmt=\"grid\"))\n",
        "    print(f\"Total Annual Cost Across All Parts: {total_annual_cost}\")\n",
        "\n",
        "# Example usage of the function, ensure `region_part_data` and all constants are defined.\n",
        "calculate_inventory_metrics(region_part_data)"
      ],
      "metadata": {
        "colab": {
          "base_uri": "https://localhost:8080/"
        },
        "id": "AB-YHmTazGN2",
        "outputId": "55d2cdfe-dbf2-4277-c984-f858fa515ac4"
      },
      "execution_count": null,
      "outputs": [
        {
          "output_type": "stream",
          "name": "stdout",
          "text": [
            "+----------+--------+----------------+---------------+----------------------+---------------------------+-------------------+--------+------------------+---------------------+------+\n",
            "| Region   | Part   |   Safety Stock |   Cycle Stock |   Inventory Cost/Day |   Transportation Cost/Day |   Total Cost/Year |    OUL |   Unit Cost/Year |   Days of Inventory |   CV |\n",
            "+==========+========+================+===============+======================+===========================+===================+========+==================+=====================+======+\n",
            "| Region 1 | Part 1 |          38.08 |        283.84 |                48.29 |                      6.74 |          200856   | 428.36 |           566.11 |                9.07 | 0.2  |\n",
            "+----------+--------+----------------+---------------+----------------------+---------------------------+-------------------+--------+------------------+---------------------+------+\n",
            "| Region 1 | Part 3 |          17.24 |         19.84 |                 5.56 |                      0.47 |           44041.2 |  44.52 |           887.93 |               14.95 | 1.27 |\n",
            "+----------+--------+----------------+---------------+----------------------+---------------------------+-------------------+--------+------------------+---------------------+------+\n",
            "| Region 1 | Part 7 |          10.8  |          3.84 |                 2.2  |                      0.09 |           58444.2 |  16.08 |          1739.41 |               30.5  | 4.12 |\n",
            "+----------+--------+----------------+---------------+----------------------+---------------------------+-------------------+--------+------------------+---------------------+------+\n",
            "| Region 2 | Part 1 |          35.35 |        180.88 |                32.43 |                      4.3  |          134066   | 284.06 |           592.95 |                9.56 | 0.29 |\n",
            "+----------+--------+----------------+---------------+----------------------+---------------------------+-------------------+--------+------------------+---------------------+------+\n",
            "| Region 2 | Part 3 |          33.82 |         33.2  |                10.05 |                      0.79 |           79146.5 |  79.47 |           953.57 |               16.15 | 1.49 |\n",
            "+----------+--------+----------------+---------------+----------------------+---------------------------+-------------------+--------+------------------+---------------------+------+\n",
            "| Region 2 | Part 7 |           7.75 |          5.84 |                 2.04 |                      0.14 |           55614.5 |  15.78 |          1088.35 |               18.61 | 1.95 |\n",
            "+----------+--------+----------------+---------------+----------------------+---------------------------+-------------------+--------+------------------+---------------------+------+\n",
            "| Region 3 | Part 1 |          28.7  |        141.28 |                25.5  |                      3.36 |          105309   | 222.96 |           596.31 |                9.62 | 0.3  |\n",
            "+----------+--------+----------------+---------------+----------------------+---------------------------+-------------------+--------+------------------+---------------------+------+\n",
            "| Region 3 | Part 3 |          34.86 |         49.2  |                12.61 |                      1.17 |          100575   | 102.51 |           817.69 |               13.67 | 1.04 |\n",
            "+----------+--------+----------------+---------------+----------------------+---------------------------+-------------------+--------+------------------+---------------------+------+\n",
            "| Region 3 | Part 7 |          13.04 |          6.4  |                 2.92 |                      0.15 |           78380.9 |  21.84 |          1399.66 |               24.3  | 2.99 |\n",
            "+----------+--------+----------------+---------------+----------------------+---------------------------+-------------------+--------+------------------+---------------------+------+\n",
            "| Region 4 | Part 1 |          18.98 |         94.48 |                17.02 |                      2.24 |           70312.1 | 148.89 |           595.36 |                9.61 | 0.29 |\n",
            "+----------+--------+----------------+---------------+----------------------+---------------------------+-------------------+--------+------------------+---------------------+------+\n",
            "| Region 4 | Part 3 |          36.88 |         49.28 |                12.92 |                      1.17 |          102887   | 104.64 |           835.12 |               13.99 | 1.1  |\n",
            "+----------+--------+----------------+---------------+----------------------+---------------------------+-------------------+--------+------------------+---------------------+------+\n",
            "| Region 4 | Part 7 |          20.51 |         15.52 |                 5.4  |                      0.37 |          147511   |  41.85 |          1086.24 |               18.57 | 1.94 |\n",
            "+----------+--------+----------------+---------------+----------------------+---------------------------+-------------------+--------+------------------+---------------------+------+\n",
            "| Region 5 | Part 1 |          24.49 |         26.88 |                 7.71 |                      0.64 |           30457.7 |  61.45 |           906.48 |               15.29 | 1.34 |\n",
            "+----------+--------+----------------+---------------+----------------------+---------------------------+-------------------+--------+------------------+---------------------+------+\n",
            "| Region 5 | Part 3 |          19.42 |         59.92 |                11.9  |                      1.42 |           97267.1 | 101.81 |           649.31 |               10.59 | 0.48 |\n",
            "+----------+--------+----------------+---------------+----------------------+---------------------------+-------------------+--------+------------------+---------------------+------+\n",
            "| Region 5 | Part 7 |          21.71 |         20.32 |                 6.3  |                      0.48 |          173419   |  49.65 |           975.36 |               16.55 | 1.57 |\n",
            "+----------+--------+----------------+---------------+----------------------+---------------------------+-------------------+--------+------------------+---------------------+------+\n",
            "Total Annual Cost Across All Parts: 1478288.0930015089\n"
          ]
        }
      ]
    },
    {
      "cell_type": "markdown",
      "source": [
        "# Q2"
      ],
      "metadata": {
        "id": "GKZlyK-0gf6_"
      }
    },
    {
      "cell_type": "code",
      "source": [
        "correlation_coefficient = 0  # Placeholder\n",
        "central_transport_cost = 0.29\n",
        "total_demand_served = sum(\n",
        "    details['Mean'] * details['No']\n",
        "    for region, parts in region_part_data.items()\n",
        "    for part, details in parts.items()\n",
        "    if part in ['Part 1', 'Part 3', 'Part 7']\n",
        ") * days_per_year\n",
        "\n",
        "warehouse_cost = 50000\n",
        "total_demand_served"
      ],
      "metadata": {
        "colab": {
          "base_uri": "https://localhost:8080/"
        },
        "id": "FpSoTINxgh9w",
        "outputId": "fda1d2f2-efe1-4b1a-8383-926be01cb20e"
      },
      "execution_count": null,
      "outputs": [
        {
          "output_type": "execute_result",
          "data": {
            "text/plain": [
              "690616.5"
            ]
          },
          "metadata": {},
          "execution_count": 46
        }
      ]
    },
    {
      "cell_type": "code",
      "source": [
        "if total_demand_served < 400000:\n",
        "    CDC_Cost = total_demand_served * 2\n",
        "else:\n",
        "    CDC_Cost = 800000 + (total_demand_served - 400000) * 1.5\n",
        "\n",
        "CDC_Cost"
      ],
      "metadata": {
        "colab": {
          "base_uri": "https://localhost:8080/"
        },
        "id": "mRHSzrXDs1Fg",
        "outputId": "b8e1e7e9-750a-4121-d672-d4b3bfecb5fa"
      },
      "execution_count": null,
      "outputs": [
        {
          "output_type": "execute_result",
          "data": {
            "text/plain": [
              "1235924.75"
            ]
          },
          "metadata": {},
          "execution_count": 47
        }
      ]
    },
    {
      "cell_type": "code",
      "source": [
        "# Predefined Constants\n",
        "correlation_coefficients = [0, 0.5, 1]\n",
        "\n",
        "def calculate_centralized_metrics_with_correlation(region_part_data, correlation_coefficients):\n",
        "    results = []\n",
        "    for correlation_coefficient in correlation_coefficients:\n",
        "        total_cost_all_parts = 0\n",
        "        table_data = []\n",
        "\n",
        "        # Initialize centralized data structure\n",
        "        centralized_data = {\n",
        "            'Part 1': {'No': 10, 'Total_Mean': 0, 'Total_Std_dev_Squared': 0},\n",
        "            'Part 3': {'No': 20, 'Total_Mean': 0, 'Total_Std_dev_Squared': 0},\n",
        "            'Part 7': {'No': 70, 'Total_Mean': 0, 'Total_Std_dev_Squared': 0}\n",
        "        }\n",
        "\n",
        "        # Aggregate means and variances (squared standard deviations)\n",
        "        for region, parts in region_part_data.items():\n",
        "            for part, details in parts.items():\n",
        "                centralized_data[part]['Total_Mean'] += details['Mean'] * details['No']\n",
        "                centralized_data[part]['Total_Std_dev_Squared'] += (details['Std_dev'] ** 2) * details['No']\n",
        "\n",
        "        # Calculate centralized metrics for each part\n",
        "        for part, data in centralized_data.items():\n",
        "            aggregated_mean = data['Total_Mean'] / data['No']\n",
        "            # Adjust standard deviation calculation for covariance\n",
        "            total_variance = data['Total_Std_dev_Squared'] / data['No']\n",
        "            covariance = correlation_coefficient * aggregated_mean ** 2\n",
        "            aggregated_std_dev = np.sqrt(total_variance + covariance)\n",
        "\n",
        "            sigma = aggregated_std_dev * np.sqrt(L + T)\n",
        "            safety_stock = Z * sigma\n",
        "            cycle_stock = aggregated_mean * (T / 2 + L)\n",
        "            inventory_cost_per_day = H * (cycle_stock + safety_stock)\n",
        "            transportation_cost_per_day = central_transport_cost * aggregated_mean\n",
        "            total_cost_per_year = days_per_year * (inventory_cost_per_day + transportation_cost_per_day) * data['No']\n",
        "\n",
        "            OUL = safety_stock + (T + L) * aggregated_mean\n",
        "            unit_cost_per_year = total_cost_per_year / aggregated_mean\n",
        "            days_of_inventory = (cycle_stock + safety_stock) / aggregated_mean\n",
        "            cv = aggregated_std_dev / aggregated_mean\n",
        "\n",
        "            # Append metrics to table data\n",
        "            table_data.append([\n",
        "                part,\n",
        "                round(aggregated_mean, 2),\n",
        "                round(aggregated_std_dev, 2),\n",
        "                round(safety_stock, 2),\n",
        "                round(cycle_stock, 2),\n",
        "                round(inventory_cost_per_day, 2),\n",
        "                round(transportation_cost_per_day, 2),\n",
        "                round(total_cost_per_year, 2),\n",
        "                round(OUL, 2),\n",
        "                round(unit_cost_per_year, 2),\n",
        "                round(days_of_inventory, 2),\n",
        "                round(cv, 2)\n",
        "            ])\n",
        "\n",
        "            total_cost_all_parts += total_cost_per_year\n",
        "\n",
        "         # Adjust total cost with CDC Cost and warehouse cost\n",
        "        adjusted_total_cost = total_cost_all_parts + CDC_Cost - 5 * warehouse_cost\n",
        "        results.append((correlation_coefficient, table_data, adjusted_total_cost))\n",
        "\n",
        "\n",
        "\n",
        "    # Display results\n",
        "    for coefficient, table_data, total_cost in results:\n",
        "        print(f\"Correlation Coefficient: {coefficient}\")\n",
        "        print(tabulate(table_data, headers=[\"Part\", \"Mean\", \"Std_dev\", \"Safety Stock\", \"Cycle Stock\", \"Inventory Cost/Day\",\n",
        "                                            \"Transportation Cost/Day\", \"Total Cost/Year\", \"OUL\", \"Unit Cost/Year\",\n",
        "                                            \"Days of Inventory\", \"CV\"], tablefmt=\"grid\"))\n",
        "        print(f\"Total Annual Cost Across All Parts for Correlation Coefficient {coefficient}: {total_cost}\\n\")"
      ],
      "metadata": {
        "id": "aeYEp0N0tVmS"
      },
      "execution_count": null,
      "outputs": []
    },
    {
      "cell_type": "code",
      "source": [
        "calculate_centralized_metrics_with_correlation(region_part_data, correlation_coefficients)"
      ],
      "metadata": {
        "colab": {
          "base_uri": "https://localhost:8080/"
        },
        "id": "VNlR3aFV7VMK",
        "outputId": "e5a4a6a9-25bf-49d5-f50b-6d0081988911"
      },
      "execution_count": null,
      "outputs": [
        {
          "output_type": "stream",
          "name": "stdout",
          "text": [
            "Correlation Coefficient: 0\n",
            "+--------+--------+-----------+----------------+---------------+----------------------+---------------------------+-------------------+---------+------------------+---------------------+------+\n",
            "| Part   |   Mean |   Std_dev |   Safety Stock |   Cycle Stock |   Inventory Cost/Day |   Transportation Cost/Day |   Total Cost/Year |     OUL |   Unit Cost/Year |   Days of Inventory |   CV |\n",
            "+========+========+===========+================+===============+======================+===========================+===================+=========+==================+=====================+======+\n",
            "| Part 1 |  90.92 |     12.27 |          66.96 |        727.36 |               119.15 |                     26.37 |            531128 | 1067.08 |          5841.71 |                8.74 | 0.13 |\n",
            "+--------+--------+-----------+----------------+---------------+----------------------+---------------------------+-------------------+---------+------------------+---------------------+------+\n",
            "| Part 3 |  26.43 |     12.15 |          66.28 |        211.44 |                41.66 |                      7.66 |            360060 |  357.01 |         13623.2  |               10.51 | 0.46 |\n",
            "+--------+--------+-----------+----------------+---------------+----------------------+---------------------------+-------------------+---------+------------------+---------------------+------+\n",
            "| Part 7 |   6.49 |      6.45 |          35.2  |         51.92 |                13.07 |                      1.88 |            381965 |  106.59 |         58854.4  |               13.42 | 0.99 |\n",
            "+--------+--------+-----------+----------------+---------------+----------------------+---------------------------+-------------------+---------+------------------+---------------------+------+\n",
            "Total Annual Cost Across All Parts for Correlation Coefficient 0: 2259078.3153896444\n",
            "\n",
            "Correlation Coefficient: 0.5\n",
            "+--------+--------+-----------+----------------+---------------+----------------------+---------------------------+-------------------+---------+------------------+---------------------+------+\n",
            "| Part   |   Mean |   Std_dev |   Safety Stock |   Cycle Stock |   Inventory Cost/Day |   Transportation Cost/Day |   Total Cost/Year |     OUL |   Unit Cost/Year |   Days of Inventory |   CV |\n",
            "+========+========+===========+================+===============+======================+===========================+===================+=========+==================+=====================+======+\n",
            "| Part 1 |  90.92 |     65.45 |         357.06 |        727.36 |               162.66 |                     26.37 |            689959 | 1357.18 |          7588.64 |               11.93 | 0.72 |\n",
            "+--------+--------+-----------+----------------+---------------+----------------------+---------------------------+-------------------+---------+------------------+---------------------+------+\n",
            "| Part 3 |  26.43 |     22.29 |         121.61 |        211.44 |                49.96 |                      7.66 |            420639 |  412.34 |         15915.2  |               12.6  | 0.84 |\n",
            "+--------+--------+-----------+----------------+---------------+----------------------+---------------------------+-------------------+---------+------------------+---------------------+------+\n",
            "| Part 7 |   6.49 |      7.92 |          43.19 |         51.92 |                14.27 |                      1.88 |            412608 |  114.58 |         63575.9  |               14.66 | 1.22 |\n",
            "+--------+--------+-----------+----------------+---------------+----------------------+---------------------------+-------------------+---------+------------------+---------------------+------+\n",
            "Total Annual Cost Across All Parts for Correlation Coefficient 0.5: 2509130.390870299\n",
            "\n",
            "Correlation Coefficient: 1\n",
            "+--------+--------+-----------+----------------+---------------+----------------------+---------------------------+-------------------+---------+------------------+---------------------+------+\n",
            "| Part   |   Mean |   Std_dev |   Safety Stock |   Cycle Stock |   Inventory Cost/Day |   Transportation Cost/Day |   Total Cost/Year |     OUL |   Unit Cost/Year |   Days of Inventory |   CV |\n",
            "+========+========+===========+================+===============+======================+===========================+===================+=========+==================+=====================+======+\n",
            "| Part 1 |  90.92 |     91.74 |         500.5  |        727.36 |               184.18 |                     26.37 |            768493 | 1500.62 |           8452.4 |               13.5  | 1.01 |\n",
            "+--------+--------+-----------+----------------+---------------+----------------------+---------------------------+-------------------+---------+------------------+---------------------+------+\n",
            "| Part 3 |  26.43 |     29.09 |         158.69 |        211.44 |                55.52 |                      7.66 |            461246 |  449.42 |          17451.6 |               14    | 1.1  |\n",
            "+--------+--------+-----------+----------------+---------------+----------------------+---------------------------+-------------------+---------+------------------+---------------------+------+\n",
            "| Part 7 |   6.49 |      9.15 |          49.92 |         51.92 |                15.28 |                      1.88 |            438404 |  121.31 |          67550.7 |               15.69 | 1.41 |\n",
            "+--------+--------+-----------+----------------+---------------+----------------------+---------------------------+-------------------+---------+------------------+---------------------+------+\n",
            "Total Annual Cost Across All Parts for Correlation Coefficient 1: 2654067.7947984515\n",
            "\n"
          ]
        }
      ]
    },
    {
      "cell_type": "markdown",
      "source": [
        "The initial cost for constructing a CDC is super high that's why the cost is significantly higher than that of regionally separated system.\n",
        "\n",
        "However, the unit cost is significantly lower than the regional one when correlation coefficient is lower than 50%. Therefore, our recommendation is that, if the correlation coefficient is significantly low, we prefer the centralized option because the cost will be smaller for the centralized option in the long run."
      ],
      "metadata": {
        "id": "LnYVBXkTYD27"
      }
    },
    {
      "cell_type": "markdown",
      "source": [
        "![image.png](data:image/png;base64,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)"
      ],
      "metadata": {
        "id": "Fz0xF9LX4RYe"
      }
    },
    {
      "cell_type": "markdown",
      "source": [
        "#Q3"
      ],
      "metadata": {
        "id": "bJ_IJ9bE2xpW"
      }
    },
    {
      "cell_type": "code",
      "source": [
        "%reset -f\n",
        "%clear\n",
        "import numpy as np\n",
        "import pandas as pd\n",
        "import math\n",
        "import scipy.stats as st\n",
        "from scipy.optimize import minimize\n",
        "\n",
        "### Set display options for comma separator and precision\n",
        "pd.options.display.float_format = '{:,.2f}'.format\n",
        "\n",
        "# Define the date you want to check\n",
        "days = 365  # days_per_year\n",
        "h   = 0.15  # holding_cost_per_day\n",
        "tc  = 0.19  # transportaion_cost_per_unit\n",
        "ctc = 0.29  # centralized transportaion_cost_per_unit\n",
        "L   = 5     # supply_leadtime_days\n",
        "T   = 6     # review_period_days\n",
        "csl = 0.95  # critical value\n",
        "warehouse_salvage = 50000\n",
        "\n",
        "corr = 0\n",
        "# Prompt the user to enter a value for 'corr'\n",
        "#corr = float(input(\"Enter correlation (as scalar): \"))\n",
        "\n",
        "### Rawdata: average demand and standard deviation of demand for each part in each region\n",
        "avg_demand = np.array([[35.48, 22.61, 17.66, 11.81,  3.36],\n",
        "                       [ 2.48,  4.15,  6.15,  6.16,  7.49],\n",
        "                       [ 0.48,  0.73,  0.80,  1.94,  2.54]])\n",
        "\n",
        "std_demand = np.array([[ 6.98,  6.48,  5.26,  3.48,  4.49],\n",
        "                       [ 3.16,  6.20,  6.39,  6.76,  3.56],\n",
        "                       [ 1.98,  1.42,  2.39,  3.76,  3.98]])\n",
        "\n",
        "num_demand = np.array([[ 10, 10, 10, 10, 10],\n",
        "                       [ 20, 20, 20, 20, 20],\n",
        "                       [ 70, 70, 70, 70, 70]])\n",
        "\n",
        "n_parts, n_regions = avg_demand.shape[0], avg_demand.shape[1]\n",
        "\n",
        "### create correlation matrix using provided scalar value (corr can also be provided as raw data)\n",
        "corr_matrix = np.full((n_regions, n_regions), corr)\n",
        "np.fill_diagonal(corr_matrix, 1) # Set diagonal elements to 1\n",
        "\n",
        "%clear\n",
        "\n",
        "# Objective function to maximize (using matrix calculations)\n",
        "def objective_function(flat_matrix):\n",
        "\n",
        "    centralize = flat_matrix.reshape((3, 5))     # Reshape the flattened matrix to 3x5\n",
        "\n",
        "    ### Compute aggregate standard deviation for centralized choices\n",
        "    agg_std_demand = np.diag( np.dot( np.dot( np.multiply(std_demand, centralize), corr_matrix), np.transpose( np.multiply(std_demand, centralize) ) ) )\n",
        "    sqrt_agg_std_demand = np.sqrt(agg_std_demand)\n",
        "\n",
        "    sum_columns = np.sum(centralize, axis=1, keepdims=True)\n",
        "    sum_columns[sum_columns == 0] = 1  # Avoid division by zero\n",
        "    sum_columns_inv = 1 / sum_columns  # Inverse of the sum for normalization\n",
        "\n",
        "    ### Adjust the standard deviation by dividing number of centralized regions for each part\n",
        "    sqrt_agg_std_demand2 = np.repeat(sqrt_agg_std_demand.reshape(n_parts, 1), n_regions, axis=1)\n",
        "    sum_columns_inv2 = np.repeat(sum_columns_inv.reshape(n_parts, 1), n_regions, axis=1)\n",
        "\n",
        "    std_demand_updated = np.array( centralize * sum_columns_inv2 * sqrt_agg_std_demand2 + (1 - centralize) * std_demand )\n",
        "\n",
        "    # Count how many columns have all 1's indicating total centralization for that region\n",
        "    columns_all_ones = np.all(centralize == 1, axis=0).sum()\n",
        "\n",
        "    # Calculate the total cost considering the salvage value from closing warehouses\n",
        "    total_cost = sum(\n",
        "        days * num_demand[i, j] *\n",
        "        (h * ( st.norm.ppf(csl) * std_demand_updated[i, j] * math.sqrt(T + L) + avg_demand[i, j] * (T/2 + L) )\n",
        "        + ( avg_demand[i, j] * ( centralize[i, j] * ctc + (1 - centralize[i, j]) * tc ) )\n",
        "        ) for i in range(n_parts) for j in range(n_regions) ) - columns_all_ones * warehouse_salvage\n",
        "\n",
        "    return total_cost  # Return total cost (minimization problem)\n",
        "\n"
      ],
      "metadata": {
        "id": "HcjGb16mDtGz",
        "colab": {
          "base_uri": "https://localhost:8080/"
        },
        "outputId": "9b9e188e-6226-4f9c-d23a-36cbbc68f8ac"
      },
      "execution_count": null,
      "outputs": [
        {
          "output_type": "stream",
          "name": "stdout",
          "text": [
            "\u001b[H\u001b[2J\u001b[H\u001b[2J"
          ]
        }
      ]
    },
    {
      "cell_type": "code",
      "source": [
        "# Initial guess for decision variables\n",
        "initial_guess = np.full((n_parts, n_regions), 0.5)\n",
        "initial_guess_flat = initial_guess.flatten()\n",
        "centralize = initial_guess_flat.reshape((3, 5))\n",
        "centralize"
      ],
      "metadata": {
        "colab": {
          "base_uri": "https://localhost:8080/"
        },
        "id": "rpsknn-r7nQ2",
        "outputId": "760d4f89-b359-4a95-fec9-7c903c4da02c"
      },
      "execution_count": null,
      "outputs": [
        {
          "output_type": "execute_result",
          "data": {
            "text/plain": [
              "array([[0.5, 0.5, 0.5, 0.5, 0.5],\n",
              "       [0.5, 0.5, 0.5, 0.5, 0.5],\n",
              "       [0.5, 0.5, 0.5, 0.5, 0.5]])"
            ]
          },
          "metadata": {},
          "execution_count": 61
        }
      ]
    },
    {
      "cell_type": "code",
      "source": [
        "# Initial guess for decision variables\n",
        "initial_guess = np.full((n_parts, n_regions), 0.5)\n",
        "initial_guess_flat = initial_guess.flatten()     # Flatten the initial guess for use in optimization\n",
        "\n",
        "# Bounds for decision variables (between 0 and 1)\n",
        "bounds = [(0, 1)] * (n_parts*n_regions)\n",
        "\n",
        "# Custom constraint enforcing the sum of each group (of 5) to not equal 1\n",
        "def binary_constraints(x):\n",
        "    # Binary constraint\n",
        "    return [xi * (1 - xi) for xi in x]   # Forcing xi to be close to 0 or 1\n",
        "    # return x - 0.5\n",
        "\n",
        "# Constraints argument\n",
        "constraints = ({'type': 'ineq', 'fun': binary_constraints})\n",
        "\n",
        "# Optimization using minimize function from scipy\n",
        "result = minimize(objective_function, initial_guess_flat, bounds=bounds, constraints=constraints)\n",
        "\n",
        "# Extract the optimal solution as a 3x5 matrix\n",
        "optimal_soln_mat = np.round((result.x).reshape((n_parts, n_regions)))\n",
        "\n",
        "cdc_cost = days * sum( (num_demand[i, j] * avg_demand[i, j] * optimal_soln_mat[i, j]) for i in range(n_parts) for j in range(n_regions) )\n",
        "investment = cdc_cost * 2 if cdc_cost <= 400000 else (800000 + (cdc_cost - 400000) * 1.5)\n",
        "\n",
        "# Print the optimal solution as a 3x5 matrix\n",
        "print(\"Correlation :\", corr)\n",
        "print(f\"Minimum cost: ${(result.fun):>13,.2f}\")\n",
        "print(f\"CDC cost    : ${cdc_cost:>13,.2f}\")\n",
        "print(f\"Investment  : ${investment:>13,.2f}\")\n",
        "print(\"\\nOptimal Solution:\\n   R1   R2   R3   R4   R5\")\n",
        "for part in optimal_soln_mat:\n",
        "    print(\" \".join(f\"{int(region):4}\" for region in part))"
      ],
      "metadata": {
        "colab": {
          "base_uri": "https://localhost:8080/"
        },
        "id": "XWAtFBqLWbwW",
        "outputId": "36806c88-fca5-4e3a-d93a-8d809d96a06c"
      },
      "execution_count": null,
      "outputs": [
        {
          "output_type": "stream",
          "name": "stdout",
          "text": [
            "Correlation : 0\n",
            "Minimum cost: $ 1,074,546.19\n",
            "CDC cost    : $   561,114.50\n",
            "Investment  : $ 1,041,671.75\n",
            "\n",
            "Optimal Solution:\n",
            "   R1   R2   R3   R4   R5\n",
            "   0    1    1    1    1\n",
            "   1    1    1    1    1\n",
            "   1    1    1    1    1\n"
          ]
        }
      ]
    },
    {
      "cell_type": "code",
      "source": [
        "corr = 0.5\n",
        "\n",
        "### create correlation matrix using provided scalar value (corr can also be provided as raw data)\n",
        "corr_matrix = np.full((n_regions, n_regions), corr)\n",
        "np.fill_diagonal(corr_matrix, 1) # Set diagonal elements to 1\n",
        "\n",
        "# Initial guess for decision variables\n",
        "initial_guess = np.full((n_parts, n_regions), 0.5)\n",
        "initial_guess_flat = initial_guess.flatten()     # Flatten the initial guess for use in optimization\n",
        "\n",
        "# Bounds for decision variables (between 0 and 1)\n",
        "bounds = [(0, 1)] * (n_parts*n_regions)\n",
        "\n",
        "# Custom constraint enforcing the sum of each group (of 5) to not equal 1\n",
        "def binary_constraints(x):\n",
        "    # Binary constraint\n",
        "    return [xi * (1 - xi) for xi in x]   # Forcing xi to be close to 0 or 1\n",
        "    # return x - 0.5\n",
        "\n",
        "# Constraints argument\n",
        "constraints = ({'type': 'ineq', 'fun': binary_constraints})\n",
        "\n",
        "# Optimization using minimize function from scipy\n",
        "result = minimize(objective_function, initial_guess_flat, bounds=bounds, constraints=constraints)\n",
        "\n",
        "# Extract the optimal solution as a 3x5 matrix\n",
        "optimal_soln_mat = np.round((result.x).reshape((n_parts, n_regions)))\n",
        "\n",
        "cdc_cost = days * sum( (num_demand[i, j] * avg_demand[i, j] * optimal_soln_mat[i, j]) for i in range(n_parts) for j in range(n_regions) )\n",
        "investment = cdc_cost * 2 if cdc_cost <= 400000 else (800000 + (cdc_cost - 400000) * 1.5)\n",
        "\n",
        "# Print the optimal solution as a 3x5 matrix\n",
        "print(\"Correlation :\", corr)\n",
        "print(f\"Minimum cost: ${(result.fun):>13,.2f}\")\n",
        "print(f\"CDC cost    : ${cdc_cost:>13,.2f}\")\n",
        "print(f\"Investment  : ${investment:>13,.2f}\")\n",
        "print(\"\\nOptimal Solution:\\n   R1   R2   R3   R4   R5\")\n",
        "for part in optimal_soln_mat:\n",
        "    print(\" \".join(f\"{int(region):4}\" for region in part))"
      ],
      "metadata": {
        "colab": {
          "base_uri": "https://localhost:8080/"
        },
        "id": "bUvWTrqsXCWf",
        "outputId": "6d326b65-8cad-4ee1-d992-69b35f193da5"
      },
      "execution_count": null,
      "outputs": [
        {
          "output_type": "stream",
          "name": "stdout",
          "text": [
            "Correlation : 0.5\n",
            "Minimum cost: $ 1,418,648.16\n",
            "CDC cost    : $   358,758.50\n",
            "Investment  : $   717,517.00\n",
            "\n",
            "Optimal Solution:\n",
            "   R1   R2   R3   R4   R5\n",
            "   0    0    0    0    0\n",
            "   1    1    1    1    1\n",
            "   1    1    1    1    1\n"
          ]
        }
      ]
    },
    {
      "cell_type": "code",
      "source": [
        "corr = 1\n",
        "\n",
        "### create correlation matrix using provided scalar value (corr can also be provided as raw data)\n",
        "corr_matrix = np.full((n_regions, n_regions), corr)\n",
        "np.fill_diagonal(corr_matrix, 1) # Set diagonal elements to 1\n",
        "\n",
        "# Initial guess for decision variables\n",
        "initial_guess = np.full((n_parts, n_regions), 0.5)\n",
        "initial_guess_flat = initial_guess.flatten()     # Flatten the initial guess for use in optimization\n",
        "\n",
        "# Bounds for decision variables (between 0 and 1)\n",
        "bounds = [(0, 1)] * (n_parts*n_regions)\n",
        "\n",
        "# Custom constraint enforcing the sum of each group (of 5) to not equal 1\n",
        "def binary_constraints(x):\n",
        "    # Binary constraint\n",
        "    return [xi * (1 - xi) for xi in x]   # Forcing xi to be close to 0 or 1\n",
        "    # return x - 0.5\n",
        "\n",
        "# Constraints argument\n",
        "constraints = ({'type': 'ineq', 'fun': binary_constraints})\n",
        "\n",
        "# Optimization using minimize function from scipy\n",
        "result = minimize(objective_function, initial_guess_flat, bounds=bounds, constraints=constraints)\n",
        "\n",
        "# Extract the optimal solution as a 3x5 matrix\n",
        "optimal_soln_mat = np.round((result.x).reshape((n_parts, n_regions)))\n",
        "\n",
        "cdc_cost = days * sum( (num_demand[i, j] * avg_demand[i, j] * optimal_soln_mat[i, j]) for i in range(n_parts) for j in range(n_regions) )\n",
        "investment = cdc_cost * 2 if cdc_cost <= 400000 else (800000 + (cdc_cost - 400000) * 1.5)\n",
        "\n",
        "# Print the optimal solution as a 3x5 matrix\n",
        "print(\"Correlation :\", corr)\n",
        "print(f\"Minimum cost: ${(result.fun):>13,.2f}\")\n",
        "print(f\"CDC cost    : ${cdc_cost:>13,.2f}\")\n",
        "print(f\"Investment  : ${investment:>13,.2f}\")\n",
        "print(\"\\nOptimal Solution:\\n   R1   R2   R3   R4   R5\")\n",
        "for part in optimal_soln_mat:\n",
        "    print(\" \".join(f\"{int(region):4}\" for region in part))"
      ],
      "metadata": {
        "colab": {
          "base_uri": "https://localhost:8080/"
        },
        "id": "tT3abl0mXGf_",
        "outputId": "44ff338a-3462-4ba1-9273-ef0cf635ea16"
      },
      "execution_count": null,
      "outputs": [
        {
          "output_type": "stream",
          "name": "stdout",
          "text": [
            "Correlation : 1\n",
            "Minimum cost: $ 1,478,288.09\n",
            "CDC cost    : $         0.00\n",
            "Investment  : $         0.00\n",
            "\n",
            "Optimal Solution:\n",
            "   R1   R2   R3   R4   R5\n",
            "   0    0    0    0    0\n",
            "   0    0    0    0    0\n",
            "   0    0    0    0    0\n"
          ]
        }
      ]
    },
    {
      "cell_type": "markdown",
      "source": [
        "Some simulations with different coefficients"
      ],
      "metadata": {
        "id": "awuT-KQEZCRc"
      }
    },
    {
      "cell_type": "code",
      "source": [
        "import matplotlib.pyplot as plt\n",
        "\n",
        "# Initialize lists to store correlation values and total costs\n",
        "correlation_values = []\n",
        "total_costs = []\n",
        "\n",
        "# Loop through different correlation values\n",
        "for corr in np.arange(-1, 1.05, 0.05):  # Adjust step size as needed\n",
        "    correlation_values.append(corr)  # Correctly adding the correlation value\n",
        "\n",
        "    # Create correlation matrix\n",
        "    corr_matrix = np.full((n_regions, n_regions), corr)\n",
        "    np.fill_diagonal(corr_matrix, 1)  # Diagonal elements are 1\n",
        "\n",
        "    # Initial guess for decision variables\n",
        "    initial_guess = np.full((n_parts, n_regions), 0.5).flatten()\n",
        "\n",
        "    # Optimization\n",
        "    result = minimize(objective_function, initial_guess, bounds=bounds, constraints=constraints)\n",
        "\n",
        "    # Extract the optimized solution as a matrix\n",
        "    optimal_soln_mat = np.round(result.x.reshape((n_parts, n_regions)))\n",
        "\n",
        "    # Calculate costs\n",
        "    cdc_cost = days * sum(num_demand[i, j] * avg_demand[i, j] * optimal_soln_mat[i, j] for i in range(n_parts) for j in range(n_regions))\n",
        "    investment = cdc_cost * 2 if cdc_cost <= 400000 else (800000 + (cdc_cost - 400000) * 1.5)\n",
        "\n",
        "    # Calculate total costs and append to the list\n",
        "    total_cost = cdc_cost + investment\n",
        "    total_costs.append(total_cost)\n",
        "\n",
        "# Plotting\n",
        "plt.figure(figsize=(10, 6))\n",
        "plt.plot(correlation_values, total_costs, '-o', color='blue')\n",
        "plt.title('CDC Cost + Investment Cost vs. Correlation Coefficient')\n",
        "plt.xlabel('Correlation Coefficient')\n",
        "plt.ylabel('CDC Cost + Investment')\n",
        "plt.grid(True)\n",
        "plt.show()"
      ],
      "metadata": {
        "colab": {
          "base_uri": "https://localhost:8080/",
          "height": 599
        },
        "id": "Vr1rUX1kZFjr",
        "outputId": "4ffa6659-fe30-4ddb-bfb4-dd123ff7e09b"
      },
      "execution_count": null,
      "outputs": [
        {
          "output_type": "stream",
          "name": "stderr",
          "text": [
            "<ipython-input-60-2cedf85d337f>:54: RuntimeWarning: invalid value encountered in sqrt\n",
            "  sqrt_agg_std_demand = np.sqrt(agg_std_demand)\n"
          ]
        },
        {
          "output_type": "display_data",
          "data": {
            "text/plain": [
              "<Figure size 1000x600 with 1 Axes>"
            ],
            "image/png": "[encoded data removed]"
          },
          "metadata": {}
        }
      ]
    },
    {
      "cell_type": "markdown",
      "source": [
        "This indicates that it only makes sense to centralize any regions if the correlation coefficient is between -0.3 to 0.9"
      ],
      "metadata": {
        "id": "ZC-eQYCIeplf"
      }
    },
    {
      "cell_type": "code",
      "source": [
        "import matplotlib.pyplot as plt\n",
        "from collections import defaultdict\n",
        "\n",
        "# Initialize dictionary to store frequency of each matrix configuration\n",
        "matrix_config_frequency = defaultdict(int)\n",
        "config_costs = defaultdict(list)\n",
        "\n",
        "# Initialize lists to store correlation values and minimized costs\n",
        "correlation_values = []\n",
        "minimized_costs = []\n",
        "\n",
        "# Loop through different correlation values\n",
        "for corr in np.arange(-1, 1.05, 0.05):  # Adjust step size as needed\n",
        "    correlation_values.append(corr)  # Correctly adding the correlation value\n",
        "\n",
        "    # Create correlation matrix\n",
        "    corr_matrix = np.full((n_regions, n_regions), corr)\n",
        "    np.fill_diagonal(corr_matrix, 1)  # Diagonal elements are 1\n",
        "\n",
        "    # Initial guess for decision variables\n",
        "    initial_guess = np.full((n_parts, n_regions), 0.5).flatten()\n",
        "\n",
        "    # Optimization\n",
        "    result = minimize(objective_function, initial_guess, bounds=bounds, constraints=constraints)\n",
        "\n",
        "    # Extract the optimized solution as a matrix\n",
        "    optimal_soln_mat = np.round(result.x.reshape((n_parts, n_regions)))\n",
        "\n",
        "    # Calculate costs\n",
        "    cdc_cost = days * sum(num_demand[i, j] * avg_demand[i, j] * optimal_soln_mat[i, j] for i in range(n_parts) for j in range(n_regions))\n",
        "    investment = cdc_cost * 2 if cdc_cost <= 400000 else (800000 + (cdc_cost - 400000) * 1.5)\n",
        "\n",
        "    # Store the minimized cost and append to the list\n",
        "    minimized_costs.append(result.fun)\n",
        "\n",
        "    # Convert matrix to a tuple and increase its count in the dictionary\n",
        "    matrix_config_tuple = tuple(map(tuple, optimal_soln_mat))\n",
        "    matrix_config_frequency[matrix_config_tuple] += 1\n",
        "    config_costs[matrix_config_tuple].append(result.fun)\n",
        "\n",
        "# Plotting\n",
        "plt.figure(figsize=(10, 6))\n",
        "plt.plot(correlation_values, minimized_costs, '-o', color='blue')\n",
        "plt.title('Minized Cost vs. Correlation Coefficient')\n",
        "plt.xlabel('Correlation Coefficient')\n",
        "plt.ylabel('Minimized Cost')\n",
        "plt.grid(True)\n",
        "plt.show()"
      ],
      "metadata": {
        "colab": {
          "base_uri": "https://localhost:8080/",
          "height": 599
        },
        "id": "OWgq8DS5eoXI",
        "outputId": "8706d164-2ec4-404e-be63-b42ea21053e0"
      },
      "execution_count": null,
      "outputs": [
        {
          "output_type": "stream",
          "name": "stderr",
          "text": [
            "<ipython-input-60-2cedf85d337f>:54: RuntimeWarning: invalid value encountered in sqrt\n",
            "  sqrt_agg_std_demand = np.sqrt(agg_std_demand)\n"
          ]
        },
        {
          "output_type": "display_data",
          "data": {
            "text/plain": [
              "<Figure size 1000x600 with 1 Axes>"
            ],
            "image/png": "[encoded data removed]"
          },
          "metadata": {}
        }
      ]
    },
    {
      "cell_type": "code",
      "source": [
        "# Sort the configurations by frequency (highest first)\n",
        "sorted_config_freq = sorted(matrix_config_frequency.items(), key=lambda item: item[1], reverse=True)\n",
        "\n",
        "print(\"Statistics for each matrix configuration, ranked by frequency:\")\n",
        "for rank, (config, freq) in enumerate(sorted_config_freq, start=1):\n",
        "    costs = config_costs[config]\n",
        "    average_cost = np.mean(costs)\n",
        "    stdev_cost = np.std(costs)\n",
        "    print(f\"Rank {rank}, Configuration {config}: {freq} times, Average Cost: {average_cost}, Std Dev: {stdev_cost}\")"
      ],
      "metadata": {
        "colab": {
          "base_uri": "https://localhost:8080/"
        },
        "id": "oHNstvxX-Pfy",
        "outputId": "7d35fd00-f332-4486-e4da-8817ef9ee11e"
      },
      "execution_count": null,
      "outputs": [
        {
          "output_type": "stream",
          "name": "stdout",
          "text": [
            "Statistics for each matrix configuration, ranked by frequency:\n",
            "Rank 1, Configuration ((0.0, 0.0, 0.0, 0.0, 0.0), (0.0, 0.0, 0.0, 0.0, 0.0), (0.0, 0.0, 0.0, 0.0, 0.0)): 18 times, Average Cost: nan, Std Dev: nan\n",
            "Rank 2, Configuration ((0.0, 1.0, 1.0, 1.0, 1.0), (1.0, 1.0, 1.0, 1.0, 1.0), (1.0, 1.0, 1.0, 1.0, 1.0)): 5 times, Average Cost: 1056353.8778989478, Std Dev: 50331.89748777282\n",
            "Rank 3, Configuration ((0.0, 0.0, 1.0, 1.0, 1.0), (1.0, 1.0, 1.0, 1.0, 1.0), (1.0, 1.0, 1.0, 1.0, 1.0)): 3 times, Average Cost: 1258234.279812109, Std Dev: 69712.16039969256\n",
            "Rank 4, Configuration ((0.0, 0.0, 0.0, 0.0, 0.0), (1.0, 1.0, 1.0, 1.0, 0.0), (1.0, 1.0, 1.0, 1.0, 1.0)): 3 times, Average Cost: 1448770.7088244949, Std Dev: 7587.172732060907\n",
            "Rank 5, Configuration ((1.0, 1.0, 1.0, 1.0, 1.0), (1.0, 1.0, 1.0, 1.0, 1.0), (1.0, 1.0, 1.0, 1.0, 1.0)): 2 times, Average Cost: 930303.3462082727, Std Dev: 66544.61768584838\n",
            "Rank 6, Configuration ((0.0, 0.0, 1.0, 0.0, 1.0), (1.0, 1.0, 1.0, 1.0, 1.0), (1.0, 1.0, 1.0, 1.0, 1.0)): 2 times, Average Cost: 1292488.3889921997, Std Dev: 18476.465027706814\n",
            "Rank 7, Configuration ((0.0, 0.0, 0.0, 0.0, 1.0), (1.0, 1.0, 1.0, 1.0, 1.0), (1.0, 1.0, 1.0, 1.0, 1.0)): 2 times, Average Cost: 1352692.1078206077, Std Dev: 17182.45598101092\n",
            "Rank 8, Configuration ((0.0, 0.0, 0.0, 0.0, 0.0), (0.0, 0.0, 0.0, 0.0, 0.0), (1.0, 1.0, 1.0, 1.0, 1.0)): 2 times, Average Cost: 1469027.615852058, Std Dev: 2935.800467212335\n",
            "Rank 9, Configuration ((1.0, 0.0, 1.0, 1.0, 1.0), (1.0, 1.0, 1.0, 1.0, 1.0), (1.0, 1.0, 1.0, 1.0, 1.0)): 1 times, Average Cost: 1057648.143436979, Std Dev: 0.0\n",
            "Rank 10, Configuration ((0.0, 0.0, 0.0, 1.0, 1.0), (1.0, 1.0, 1.0, 1.0, 1.0), (1.0, 1.0, 1.0, 1.0, 1.0)): 1 times, Average Cost: 1259710.2326870668, Std Dev: 0.0\n",
            "Rank 11, Configuration ((0.0, 0.0, 0.0, 0.0, 0.0), (1.0, 1.0, 1.0, 1.0, 1.0), (1.0, 1.0, 1.0, 1.0, 1.0)): 1 times, Average Cost: 1429357.2578443973, Std Dev: 0.0\n",
            "Rank 12, Configuration ((0.0, 0.0, 0.0, 0.0, 0.0), (0.0, 0.0, 0.0, 0.0, 0.0), (1.0, 1.0, 1.0, 0.0, 0.0)): 1 times, Average Cost: 1476523.9658349282, Std Dev: 0.0\n"
          ]
        }
      ]
    },
    {
      "cell_type": "markdown",
      "source": [
        "Based on our findings, if the company is confident that the correlation coefficient of demand is between -0.25 and 0.75, then they should centralize distribution for all products in regions 2, 3, 4, and 5, while centralizing products 3 and 7 for region 1. This would mean that the only product left in a regional distribution center would be product 1 in region 1.\n",
        "\n",
        "However, if Alko is not confident that the correlation coefficient of demand will be within that range, or if they're not confident in their ability to accurately deduce the correlation coefficient, they should not centralize any of their distribution, and continue to use the regional distribution configuration they currently have.\n",
        "\n",
        "The main concern is that if the correlation coeffecient of demand is high between regions, then"
      ],
      "metadata": {
        "id": "MJXMtFo0FgJA"
      }
    }
  ]
}