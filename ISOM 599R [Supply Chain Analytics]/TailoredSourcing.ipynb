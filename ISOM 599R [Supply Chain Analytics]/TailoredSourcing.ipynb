{
 "cells": [
  {
   "cell_type": "markdown",
   "metadata": {},
   "source": [
    "# Setup"
   ]
  },
  {
   "cell_type": "code",
   "execution_count": 12,
   "metadata": {},
   "outputs": [],
   "source": [
    "# Import necessary libraries\n",
    "import numpy as np\n",
    "import math\n",
    "\n",
    "# Define parameters\n",
    "demand = np.array([1000, 300, 100, 50])\n",
    "common_ordering_cost = 100\n",
    "specific_ordering_cost = np.array([10, 20, 25, 25])\n",
    "unit_cost = np.array([50, 60, 30, 30])\n",
    "holding_cost_rate = 0.2"
   ]
  },
  {
   "cell_type": "markdown",
   "metadata": {},
   "source": [
    "# Scenario 1: Products are sourced independently"
   ]
  },
  {
   "cell_type": "code",
   "execution_count": 13,
   "metadata": {},
   "outputs": [
    {
     "name": "stdout",
     "output_type": "stream",
     "text": [
      "Optimal Q for Product 0: 149\n",
      "Optimal Q for Product 1: 78\n",
      "Optimal Q for Product 2: 65\n",
      "Optimal Q for Product 3: 46\n",
      "\n",
      "Annual Operational Cost for Scenario 1: $3073.97\n"
     ]
    }
   ],
   "source": [
    "# Calculate EOQ and total cost for each product\n",
    "n_1 = [0,0,0,0]\n",
    "total_cost_individual = 0\n",
    "for i in range(len(demand)):\n",
    "    Q = math.ceil(np.sqrt((2 * demand[i] * (common_ordering_cost + specific_ordering_cost[i])) / (holding_cost_rate * unit_cost[i])))\n",
    "    n_1[i] = demand[i] / Q\n",
    "    total_cost_individual += ((unit_cost[i] * holding_cost_rate * Q) / 2) + (((common_ordering_cost + specific_ordering_cost[i]) * demand[i])/Q)\n",
    "    print(\"Optimal Q for Product \" + str(i) + \":\", Q)\n",
    "\n",
    "# Print the result\n",
    "print(f\"\\nAnnual Operational Cost for Scenario 1: ${total_cost_individual:.2f}\")"
   ]
  },
  {
   "cell_type": "markdown",
   "metadata": {},
   "source": [
    "# Scenario 2: All four products are sourced with the same frequency"
   ]
  },
  {
   "cell_type": "code",
   "execution_count": 14,
   "metadata": {},
   "outputs": [
    {
     "name": "stdout",
     "output_type": "stream",
     "text": [
      "S = 180\n",
      "n = 6.346477588219924\n",
      "Q = [158, 48, 16, 8]\n",
      "\n",
      "Annual Order Cost: $1142.37\n",
      "Annual Holding Cost: $1150.00\n",
      "\n",
      "Annual Operational Cost for Scenario 2: $2292.37\n"
     ]
    }
   ],
   "source": [
    "# Compute S\n",
    "S = common_ordering_cost + sum(specific_ordering_cost)\n",
    "print(\"S =\", S)\n",
    "\n",
    "# Compute n\n",
    "top = np.sum(demand * holding_cost_rate * unit_cost)\n",
    "bottom = 2*S\n",
    "n = np.sqrt(top/bottom)\n",
    "print(\"n =\", n)\n",
    "\n",
    "# Compute Q for each of the 4 products\n",
    "Q = [0, 0, 0, 0]\n",
    "for i in range(len(demand)):\n",
    "    Q[i] = math.ceil(demand[i] / n)\n",
    "print(\"Q =\", Q)\n",
    "\n",
    "# Compute Annual Ordering Cost\n",
    "# annual ordering cost  = S * n\n",
    "annual_order_cost = S * n\n",
    "print(f\"\\nAnnual Order Cost: ${annual_order_cost:.2f}\")\n",
    "\n",
    "# Compute Annual Holding Cost\n",
    "# annual holding cost is same formula as part 1 (optimal Q * holding rate * unit cost) / 2\n",
    "annual_holding_cost = np.sum(((unit_cost * holding_cost_rate * Q) / 2))\n",
    "print(f\"Annual Holding Cost: ${annual_holding_cost:.2f}\")\n",
    "\n",
    "\n",
    "# Compute Total Cost\n",
    "total_cost_combined = annual_order_cost + annual_holding_cost\n",
    "\n",
    "# Print the result\n",
    "print(f\"\\nAnnual Operational Cost for Scenario 2: ${total_cost_combined:.2f}\")"
   ]
  },
  {
   "cell_type": "markdown",
   "metadata": {},
   "source": [
    "# Scenario 3: Order frequencies are determined according to the tailored aggregation strategy"
   ]
  },
  {
   "cell_type": "code",
   "execution_count": 15,
   "metadata": {},
   "outputs": [
    {
     "name": "stdout",
     "output_type": "stream",
     "text": [
      "Most frequently ordered product number: 0\n"
     ]
    }
   ],
   "source": [
    "# Step 1: Identify most frequently ordered product:\n",
    "most_freq_ordered = n_1.index(max(n_1))\n",
    "print(\"Most frequently ordered product number:\", most_freq_ordered)"
   ]
  },
  {
   "cell_type": "code",
   "execution_count": 16,
   "metadata": {},
   "outputs": [
    {
     "name": "stdout",
     "output_type": "stream",
     "text": [
      "n = [6.7114093959731544, 7.171371656006362, 2.9277002188455996, 2.0701966780270626]\n"
     ]
    }
   ],
   "source": [
    "# Step 2: For all products other than the most frequently ordered, recompute frequencies using ONLY product specific ordering costs\n",
    "# Compute bottom of the n formula for each product\n",
    "bottom = np.sum(specific_ordering_cost) - specific_ordering_cost[most_freq_ordered]\n",
    "\n",
    "# Compute top of the n formula for each product\n",
    "top = [0,0,0,0]\n",
    "for i in range(len(top)):\n",
    "    top[i] = demand[i] * holding_cost_rate * unit_cost[i]\n",
    "\n",
    "# Compute n for each product\n",
    "n = [0,0,0,0]\n",
    "for i in range(len(n)):\n",
    "    n[i] = np.sqrt(top[i]/bottom)\n",
    "n[most_freq_ordered] = n_1[most_freq_ordered]\n",
    "print(\"n =\", n)"
   ]
  },
  {
   "cell_type": "code",
   "execution_count": 17,
   "metadata": {},
   "outputs": [
    {
     "name": "stdout",
     "output_type": "stream",
     "text": [
      "Q = [149, 42, 35, 25]\n",
      "mi: [1, 1, 3, 4]\n"
     ]
    }
   ],
   "source": [
    "# Step 3: Identify frequency of other products as a multiple mi\n",
    "# Compute Q for each of the 4 products\n",
    "Q = [0, 0, 0, 0]\n",
    "for i in range(len(demand)):\n",
    "    Q[i] = math.ceil(demand[i] / n[i])\n",
    "print(\"Q =\", Q)\n",
    "\n",
    "# Frequencies\n",
    "mi = [0,0,0,0]\n",
    "for i in range(len(mi)):\n",
    "    mi[i] = math.ceil(n[most_freq_ordered]/n[i])\n",
    "print(\"mi:\", mi)"
   ]
  },
  {
   "cell_type": "code",
   "execution_count": 18,
   "metadata": {},
   "outputs": [
    {
     "name": "stdout",
     "output_type": "stream",
     "text": [
      "Baseline ordering Frequency: 7.576697173415134\n"
     ]
    }
   ],
   "source": [
    "# Step 4: Recalcluate ordering frequency n of most frequently ordered product\n",
    "\n",
    "# Find baseline freq\n",
    "top_new = np.sum(holding_cost_rate * unit_cost * demand * mi)\n",
    "bottom_new = 2 * (common_ordering_cost + np.sum(specific_ordering_cost/mi))\n",
    "baseline_freq = math.sqrt(top_new/bottom_new)\n",
    "print(\"Baseline ordering Frequency:\", baseline_freq)\n",
    "\n",
    "# Baseline frequency is the recalculated n of the most frequently ordered product"
   ]
  },
  {
   "cell_type": "code",
   "execution_count": 19,
   "metadata": {},
   "outputs": [
    {
     "name": "stdout",
     "output_type": "stream",
     "text": [
      "Optimal Frequencies: [7.576697173415134, 7.576697173415134, 2.5255657244717113, 1.8941742933537835]\n"
     ]
    }
   ],
   "source": [
    "# Step 5: Identify ordering frequency of all products using n (baseline frequency) and mi\n",
    "\n",
    "# Find optimal freq of all products\n",
    "ordering_freq = [0,0,0,0]\n",
    "for i in range(len(ordering_freq)):\n",
    "    ordering_freq[i] = baseline_freq / mi[i]\n",
    "print(\"Optimal Frequencies:\", ordering_freq)"
   ]
  },
  {
   "cell_type": "code",
   "execution_count": 20,
   "metadata": {},
   "outputs": [],
   "source": [
    "# Find optimal Q\n",
    "# demand[i] / demand freq\n",
    "optimal_q = [0,0,0,0]\n",
    "for i in range(len(optimal_q)):\n",
    "    optimal_q[i] = math.ceil(demand[i] / ordering_freq[i])\n",
    "\n",
    "# Compute Annual Holding Cost\n",
    "annual_holding_cost = [0,0,0,0]\n",
    "for i in range(4):\n",
    "    annual_holding_cost[i] = (unit_cost[i] * holding_cost_rate * optimal_q[i]) / 2\n",
    "total_annual_holding_cost = np.sum(annual_holding_cost)\n",
    "\n",
    "# Compute Annual Ordering Cost\n",
    "# baseline frequency * (common ordering cost + sum product of (specific ordering cost / frequency multiple))\n",
    "annual_order_cost = baseline_freq * (common_ordering_cost + np.sum(specific_ordering_cost / mi))\n",
    "\n",
    "# Compute Total Cost\n",
    "total_cost_combined = annual_order_cost + total_annual_holding_cost"
   ]
  },
  {
   "cell_type": "code",
   "execution_count": 21,
   "metadata": {},
   "outputs": [
    {
     "name": "stdout",
     "output_type": "stream",
     "text": [
      "Product Number\tOptimal Order Quantity\tAnnual Holding Cost\n",
      "0\t\t\t132\t\t\t660.0\n",
      "1\t\t\t40\t\t\t240.0\n",
      "2\t\t\t40\t\t\t120.0\n",
      "3\t\t\t27\t\t\t81.0\n",
      "\n",
      "Total Annual Holding Cost: $1101.00\n",
      "Total Annual Order Cost: $1095.46\n",
      "\n",
      "Annual Operational Cost for Scenario 3: $2196.46\n"
     ]
    }
   ],
   "source": [
    "# Print table headers\n",
    "print(\"Product Number\\tOptimal Order Quantity\\tAnnual Holding Cost\")\n",
    "\n",
    "# Iterate over the indices and print corresponding values\n",
    "for i in range(4):\n",
    "    print(f\"{i}\\t\\t\\t{optimal_q[i]}\\t\\t\\t{annual_holding_cost[i]}\")\n",
    "\n",
    "# Print Holding and Order Totals\n",
    "print(f\"\\nTotal Annual Holding Cost: ${total_annual_holding_cost:.2f}\")\n",
    "print(f\"Total Annual Order Cost: ${annual_order_cost:.2f}\")\n",
    "\n",
    "# Print the result\n",
    "print(f\"\\nAnnual Operational Cost for Scenario 3: ${total_cost_combined:.2f}\")"
   ]
  }
 ],
 "metadata": {
  "kernelspec": {
   "display_name": "Python 3",
   "language": "python",
   "name": "python3"
  },
  "language_info": {
   "codemirror_mode": {
    "name": "ipython",
    "version": 3
   },
   "file_extension": ".py",
   "mimetype": "text/x-python",
   "name": "python",
   "nbconvert_exporter": "python",
   "pygments_lexer": "ipython3",
   "version": "3.12.0"
  }
 },
 "nbformat": 4,
 "nbformat_minor": 2
}
