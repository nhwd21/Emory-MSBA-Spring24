{
 "cells": [
  {
   "cell_type": "markdown",
   "metadata": {},
   "source": [
    "# 1"
   ]
  },
  {
   "cell_type": "markdown",
   "metadata": {},
   "source": [
    "## A"
   ]
  },
  {
   "cell_type": "code",
   "execution_count": 3,
   "metadata": {},
   "outputs": [
    {
     "name": "stdout",
     "output_type": "stream",
     "text": [
      "There are 42 unprofitable products out of 5297 total products.\n",
      "Percentage of unprofitable products: 0.79%\n"
     ]
    }
   ],
   "source": [
    "import pandas as pd\n",
    "\n",
    "# Load the CSV file into a DataFrame\n",
    "data = pd.read_csv(\"Q2_data.csv\")\n",
    "\n",
    "# Calculate profit per product\n",
    "data['Profit Per Product'] = data['Profit Per Product'].astype(float)\n",
    "\n",
    "# Identify unprofitable products\n",
    "unprofitable_products = data[data['Profit Per Product'] < 0]\n",
    "\n",
    "# Calculate the percentage of unprofitable products\n",
    "percent_unprofitable = (len(unprofitable_products) / len(data)) * 100\n",
    "\n",
    "if len(unprofitable_products) > 0:\n",
    "    print(\"There are\", len(unprofitable_products), \"unprofitable products out of\", len(data), \"total products.\")\n",
    "    print(\"Percentage of unprofitable products: {:.2f}%\".format(percent_unprofitable))\n",
    "else:\n",
    "    print(\"All products are profitable.\")\n"
   ]
  },
  {
   "cell_type": "markdown",
   "metadata": {},
   "source": [
    "## B"
   ]
  },
  {
   "cell_type": "code",
   "execution_count": 4,
   "metadata": {},
   "outputs": [
    {
     "name": "stdout",
     "output_type": "stream",
     "text": [
      "Average profit per product: $2.94\n"
     ]
    }
   ],
   "source": [
    "# Calculate the average profit per product\n",
    "average_profit_per_product = data['Profit Per Product'].mean()\n",
    "\n",
    "print(\"Average profit per product: ${:.2f}\".format(average_profit_per_product))"
   ]
  },
  {
   "cell_type": "markdown",
   "metadata": {},
   "source": [
    "# 2"
   ]
  },
  {
   "cell_type": "markdown",
   "metadata": {},
   "source": [
    "## A"
   ]
  },
  {
   "cell_type": "code",
   "execution_count": 5,
   "metadata": {},
   "outputs": [
    {
     "name": "stdout",
     "output_type": "stream",
     "text": [
      "      Product ID  Profit Per Product Online\n",
      "0              0                       2.31\n",
      "1              1                       2.69\n",
      "2              2                       2.64\n",
      "3              3                       2.49\n",
      "4              4                       0.91\n",
      "...          ...                        ...\n",
      "5292        5292                      17.79\n",
      "5293        5293                      13.41\n",
      "5294        5294                      13.12\n",
      "5295        5295                       8.49\n",
      "5296        5296                       9.88\n",
      "\n",
      "[5297 rows x 2 columns]\n"
     ]
    }
   ],
   "source": [
    "# Cost of processing each return\n",
    "return_processing_cost = 1\n",
    "\n",
    "# Compute profit per product in the online channel\n",
    "data['Profit Per Product Online'] = data['Profit Per Product'] - return_processing_cost * data['Share Returned']\n",
    "\n",
    "# Print the result\n",
    "print(data[['Product ID', 'Profit Per Product Online']])\n"
   ]
  },
  {
   "cell_type": "markdown",
   "metadata": {},
   "source": [
    "## B"
   ]
  },
  {
   "cell_type": "code",
   "execution_count": 8,
   "metadata": {},
   "outputs": [
    {
     "name": "stdout",
     "output_type": "stream",
     "text": [
      "There are 284 unprofitable online products out of 5297 total products.\n",
      "Percentage of unprofitable online products: 5.36%\n"
     ]
    }
   ],
   "source": [
    "# Identify unprofitable products in the online channel\n",
    "unprofitable_products_online = data[data['Profit Per Product Online'] < 0]\n",
    "\n",
    "# Calculate the percentage of unprofitable products in the online channel\n",
    "percent_unprofitable_online = (len(unprofitable_products_online) / len(data)) * 100\n",
    "\n",
    "if len(unprofitable_products_online) > 0:\n",
    "    print(\"There are\", len(unprofitable_products_online), \"unprofitable online products out of\", len(data), \"total products.\")\n",
    "    print(\"Percentage of unprofitable online products: {:.2f}%\".format(percent_unprofitable_online))\n",
    "else:\n",
    "    print(\"All products are profitable in the online channel.\")"
   ]
  },
  {
   "cell_type": "markdown",
   "metadata": {},
   "source": [
    "## C"
   ]
  },
  {
   "cell_type": "code",
   "execution_count": 9,
   "metadata": {},
   "outputs": [
    {
     "name": "stdout",
     "output_type": "stream",
     "text": [
      "Average profit per product in the online channel: $2.44\n"
     ]
    }
   ],
   "source": [
    "# Calculate the average profit per product in the online channel\n",
    "average_profit_per_product_online = data['Profit Per Product Online'].mean()\n",
    "\n",
    "print(\"Average profit per product in the online channel: ${:.2f}\".format(average_profit_per_product_online))"
   ]
  },
  {
   "cell_type": "markdown",
   "metadata": {},
   "source": [
    "# 3"
   ]
  },
  {
   "cell_type": "markdown",
   "metadata": {},
   "source": [
    "## A"
   ]
  },
  {
   "cell_type": "code",
   "execution_count": 10,
   "metadata": {},
   "outputs": [
    {
     "name": "stdout",
     "output_type": "stream",
     "text": [
      "      Product ID  Profit Per Product Online  Bad Product\n",
      "0              0                       2.31        False\n",
      "1              1                       2.69        False\n",
      "2              2                       2.64        False\n",
      "3              3                       2.49        False\n",
      "4              4                       0.91        False\n",
      "...          ...                        ...          ...\n",
      "5292        5292                      17.79        False\n",
      "5293        5293                      13.41        False\n",
      "5294        5294                      13.12        False\n",
      "5295        5295                       8.49        False\n",
      "5296        5296                       9.88        False\n",
      "\n",
      "[5297 rows x 3 columns]\n"
     ]
    }
   ],
   "source": [
    "# Create a new variable \"Bad Product\" indicating if profitability in the online channel is less than zero\n",
    "data['Bad Product'] = data['Profit Per Product Online'] < 0\n",
    "\n",
    "# Display the updated DataFrame with the new variable\n",
    "print(data[['Product ID', 'Profit Per Product Online', 'Bad Product']])"
   ]
  },
  {
   "cell_type": "markdown",
   "metadata": {},
   "source": [
    "## B"
   ]
  },
  {
   "cell_type": "code",
   "execution_count": 17,
   "metadata": {},
   "outputs": [
    {
     "name": "stdout",
     "output_type": "stream",
     "text": [
      "                  Feature  Coefficient\n",
      "0   cat__Category_Blazers    -0.084618\n",
      "1   cat__Category_Bluoses    -0.388708\n",
      "2   cat__Category_Dresses    -0.834674\n",
      "3   cat__Category_Jackets     0.314515\n",
      "4      cat__Category_Knit     0.287408\n",
      "5     cat__Category_Pants     0.228351\n",
      "6    cat__Category_Shirts     0.663605\n",
      "7    cat__Category_Skirts    -0.184416\n",
      "8        cat__Color_Black    -0.627762\n",
      "9         cat__Color_Blue    -0.089237\n",
      "10       cat__Color_Brown     0.350262\n",
      "11       cat__Color_Green     0.314770\n",
      "12        cat__Color_Grey    -0.070753\n",
      "13      cat__Color_Orange    -1.102709\n",
      "14        cat__Color_Pink    -0.532383\n",
      "15         cat__Color_Red     0.489781\n",
      "16       cat__Color_White     0.180637\n",
      "17      cat__Color_Yellow     1.088854\n",
      "18       cat__Season_Fall     0.807858\n",
      "19     cat__Season_Spring    -0.269477\n",
      "20     cat__Season_Summer     0.013904\n",
      "21     cat__Season_Winter    -0.550824\n"
     ]
    }
   ],
   "source": [
    "import pandas as pd\n",
    "from sklearn.linear_model import LogisticRegression\n",
    "from sklearn.preprocessing import OneHotEncoder\n",
    "from sklearn.compose import ColumnTransformer\n",
    "from sklearn.pipeline import Pipeline\n",
    "\n",
    "# Assuming you already have the 'data' DataFrame\n",
    "\n",
    "# Define features and target variable\n",
    "X = data[['Category', 'Color', 'Season']]\n",
    "y = data['Bad Product']\n",
    "\n",
    "# One-hot encode categorical variables\n",
    "preprocessor = ColumnTransformer(\n",
    "    transformers=[('cat', OneHotEncoder(), ['Category', 'Color', 'Season'])],\n",
    "    remainder='passthrough'\n",
    ")\n",
    "\n",
    "# Define the logistic regression model\n",
    "logreg = LogisticRegression(max_iter=1000)\n",
    "\n",
    "# Create a pipeline with preprocessing and logistic regression\n",
    "pipeline = Pipeline(steps=[('preprocessor', preprocessor),\n",
    "                           ('classifier', logreg)])\n",
    "\n",
    "# Fit the model\n",
    "pipeline.fit(X, y)\n",
    "\n",
    "# Get the coefficients\n",
    "coefficients = pipeline.named_steps['classifier'].coef_[0]\n",
    "\n",
    "# Extract feature names after one-hot encoding\n",
    "feature_names = pipeline.named_steps['preprocessor'].get_feature_names_out(input_features=['Category', 'Color', 'Season'])\n",
    "\n",
    "# Combine feature names and coefficients into a DataFrame\n",
    "coef_df = pd.DataFrame({'Feature': feature_names, 'Coefficient': coefficients})\n",
    "\n",
    "# Print the coefficients\n",
    "print(coef_df)\n"
   ]
  }
 ],
 "metadata": {
  "kernelspec": {
   "display_name": "Python 3",
   "language": "python",
   "name": "python3"
  },
  "language_info": {
   "codemirror_mode": {
    "name": "ipython",
    "version": 3
   },
   "file_extension": ".py",
   "mimetype": "text/x-python",
   "name": "python",
   "nbconvert_exporter": "python",
   "pygments_lexer": "ipython3",
   "version": "3.12.0"
  }
 },
 "nbformat": 4,
 "nbformat_minor": 2
}
